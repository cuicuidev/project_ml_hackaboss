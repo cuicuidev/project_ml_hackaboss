{
 "cells": [
  {
   "cell_type": "code",
   "execution_count": 1,
   "metadata": {},
   "outputs": [],
   "source": [
    "# General\n",
    "import pandas as pd\n",
    "import numpy as np\n",
    "import warnings\n",
    "import itertools\n",
    "import pickle as pkl\n",
    "\n",
    "from numcat import *\n",
    "from outliers import *\n",
    "from encoding import *\n",
    "\n",
    "# Escalador\n",
    "from sklearn.preprocessing import MinMaxScaler\n",
    "\n",
    "# Clustering\n",
    "from sklearn.cluster import KMeans\n",
    "\n",
    "# Utilidades\n",
    "from sklearn.model_selection import train_test_split\n",
    "from sklearn.model_selection import GridSearchCV\n",
    "\n",
    "# Modelo de regresión\n",
    "from sklearn.ensemble import RandomForestRegressor\n",
    "\n",
    "# Modelo de clasificación\n",
    "from sklearn.neighbors import KNeighborsClassifier\n",
    "\n",
    "# Métricas\n",
    "from sklearn.metrics import r2_score, confusion_matrix, accuracy_score\n",
    "\n",
    "\n",
    "# Opciones globales\n",
    "warnings.filterwarnings(\"ignore\")\n",
    "pd.set_option('display.max_columns', None)"
   ]
  },
  {
   "cell_type": "code",
   "execution_count": 2,
   "metadata": {},
   "outputs": [],
   "source": [
    "df = pd.read_csv('vehicles.csv')"
   ]
  },
  {
   "cell_type": "code",
   "execution_count": 3,
   "metadata": {},
   "outputs": [],
   "source": [
    "# Creamos una nueva columna car_age que sea la resta de el año de posting_date con year\n",
    "df['car_age'] = df['posting_date'].str[:4].astype(float) - df['year']\n",
    "df = df[df['car_age'] >= 0].drop('posting_date', axis = 1)"
   ]
  },
  {
   "cell_type": "code",
   "execution_count": 4,
   "metadata": {},
   "outputs": [],
   "source": [
    "# creamos una nueva columna categorizando el tipo de marca que tiene (lujo, premium...)\n",
    "brand_segmentation = {\n",
    "    'gmc': 'Mainstream',\n",
    "    'chevrolet': 'Mainstream',\n",
    "    'toyota': 'Mainstream',\n",
    "    'ford': 'Mainstream',\n",
    "    'jeep': 'Mainstream',\n",
    "    'nissan': 'Mainstream',\n",
    "    'ram': 'Mainstream',\n",
    "    'mazda': 'Mainstream',\n",
    "    'cadillac': 'Premium',\n",
    "    'honda': 'Mainstream',\n",
    "    'dodge': 'Mainstream',\n",
    "    'lexus': 'Premium',\n",
    "    'jaguar': 'Premium',\n",
    "    'buick': 'Mainstream',\n",
    "    'chrysler': 'Mainstream',\n",
    "    'volvo': 'Premium',\n",
    "    'audi': 'Premium',\n",
    "    'infiniti': 'Premium',\n",
    "    'lincoln': 'Premium',\n",
    "    'alfa-romeo': 'Premium',\n",
    "    'subaru': 'Mainstream',\n",
    "    'acura': 'Premium',\n",
    "    'hyundai': 'Mainstream',\n",
    "    'mercedes-benz': 'Premium',\n",
    "    'bmw': 'Premium',\n",
    "    'mitsubishi': 'Mainstream',\n",
    "    'volkswagen': 'Mainstream',\n",
    "    'porsche': 'Premium',\n",
    "    'kia': 'Mainstream',\n",
    "    'rover': 'Mainstream',\n",
    "    'ferrari': 'Luxury',\n",
    "    'mini': 'Mainstream',\n",
    "    'pontiac': 'Mainstream',\n",
    "    'fiat': 'Mainstream',\n",
    "    'tesla': 'Premium',\n",
    "    'saturn': 'Mainstream',\n",
    "    'mercury': 'Mainstream',\n",
    "    'harley-davidson': 'Mainstream',\n",
    "    'aston-martin': 'Luxury',\n",
    "    'land rover': 'Premium',\n",
    "    'morgan': 'Luxury'\n",
    "}\n",
    "\n",
    "df['brand_segmentation'] = df['manufacturer'].map(brand_segmentation)"
   ]
  },
  {
   "cell_type": "code",
   "execution_count": 5,
   "metadata": {},
   "outputs": [],
   "source": [
    "df.drop(['id', 'url', 'region_url', 'model', 'VIN', 'size', 'image_url', 'description', 'county'], axis = 1, inplace = True)"
   ]
  },
  {
   "cell_type": "code",
   "execution_count": 6,
   "metadata": {},
   "outputs": [],
   "source": [
    "df_num, df_cat = splitNumCat(df)"
   ]
  },
  {
   "cell_type": "code",
   "execution_count": 7,
   "metadata": {},
   "outputs": [],
   "source": [
    "df_num = dropOutliers(df_num, getBestOutliersThreshold(df_num, 0.05))"
   ]
  },
  {
   "cell_type": "code",
   "execution_count": 8,
   "metadata": {},
   "outputs": [],
   "source": [
    "df_ = mergeNumCat(df_num, df_cat)"
   ]
  },
  {
   "cell_type": "code",
   "execution_count": 9,
   "metadata": {},
   "outputs": [],
   "source": [
    "df_num, df_cat = splitNumCat(df_)"
   ]
  },
  {
   "cell_type": "code",
   "execution_count": 10,
   "metadata": {},
   "outputs": [],
   "source": [
    "df_cat, encodings = encode(df_cat, df_num['price'],'best', {})"
   ]
  },
  {
   "cell_type": "code",
   "execution_count": 11,
   "metadata": {},
   "outputs": [],
   "source": [
    "df_ = mergeNumCat(df_num, df_cat)"
   ]
  },
  {
   "cell_type": "code",
   "execution_count": 12,
   "metadata": {},
   "outputs": [],
   "source": [
    "df_1 = df_.dropna()\n",
    "df_1 = df_1[df_1['price'] > 1]"
   ]
  },
  {
   "cell_type": "code",
   "execution_count": 13,
   "metadata": {},
   "outputs": [
    {
     "data": {
      "text/html": [
       "<div>\n",
       "<style scoped>\n",
       "    .dataframe tbody tr th:only-of-type {\n",
       "        vertical-align: middle;\n",
       "    }\n",
       "\n",
       "    .dataframe tbody tr th {\n",
       "        vertical-align: top;\n",
       "    }\n",
       "\n",
       "    .dataframe thead th {\n",
       "        text-align: right;\n",
       "    }\n",
       "</style>\n",
       "<table border=\"1\" class=\"dataframe\">\n",
       "  <thead>\n",
       "    <tr style=\"text-align: right;\">\n",
       "      <th></th>\n",
       "      <th>region</th>\n",
       "      <th>manufacturer</th>\n",
       "      <th>fuel</th>\n",
       "      <th>title_status</th>\n",
       "      <th>transmission</th>\n",
       "      <th>type</th>\n",
       "      <th>state</th>\n",
       "      <th>brand_segmentation</th>\n",
       "      <th>paint_color</th>\n",
       "      <th>price</th>\n",
       "      <th>year</th>\n",
       "      <th>odometer</th>\n",
       "      <th>lat</th>\n",
       "      <th>long</th>\n",
       "      <th>car_age</th>\n",
       "    </tr>\n",
       "  </thead>\n",
       "  <tbody>\n",
       "    <tr>\n",
       "      <th>0</th>\n",
       "      <td>140</td>\n",
       "      <td>16331.0</td>\n",
       "      <td>339610.0</td>\n",
       "      <td>386565.0</td>\n",
       "      <td>61705.0</td>\n",
       "      <td>41694.0</td>\n",
       "      <td>4727</td>\n",
       "      <td>323539.0</td>\n",
       "      <td>20973.077727</td>\n",
       "      <td>33590</td>\n",
       "      <td>2014.0</td>\n",
       "      <td>57923.0</td>\n",
       "      <td>32.590000</td>\n",
       "      <td>-85.480000</td>\n",
       "      <td>7.0</td>\n",
       "    </tr>\n",
       "    <tr>\n",
       "      <th>1</th>\n",
       "      <td>140</td>\n",
       "      <td>51845.0</td>\n",
       "      <td>339610.0</td>\n",
       "      <td>386565.0</td>\n",
       "      <td>61705.0</td>\n",
       "      <td>41694.0</td>\n",
       "      <td>4727</td>\n",
       "      <td>323539.0</td>\n",
       "      <td>16086.209312</td>\n",
       "      <td>22590</td>\n",
       "      <td>2010.0</td>\n",
       "      <td>71229.0</td>\n",
       "      <td>32.590000</td>\n",
       "      <td>-85.480000</td>\n",
       "      <td>11.0</td>\n",
       "    </tr>\n",
       "    <tr>\n",
       "      <th>2</th>\n",
       "      <td>140</td>\n",
       "      <td>51845.0</td>\n",
       "      <td>339610.0</td>\n",
       "      <td>386565.0</td>\n",
       "      <td>61705.0</td>\n",
       "      <td>41694.0</td>\n",
       "      <td>4727</td>\n",
       "      <td>323539.0</td>\n",
       "      <td>18205.241879</td>\n",
       "      <td>39590</td>\n",
       "      <td>2020.0</td>\n",
       "      <td>19160.0</td>\n",
       "      <td>32.590000</td>\n",
       "      <td>-85.480000</td>\n",
       "      <td>1.0</td>\n",
       "    </tr>\n",
       "    <tr>\n",
       "      <th>3</th>\n",
       "      <td>140</td>\n",
       "      <td>33367.0</td>\n",
       "      <td>339610.0</td>\n",
       "      <td>386565.0</td>\n",
       "      <td>61705.0</td>\n",
       "      <td>41694.0</td>\n",
       "      <td>4727</td>\n",
       "      <td>323539.0</td>\n",
       "      <td>18205.241879</td>\n",
       "      <td>30990</td>\n",
       "      <td>2017.0</td>\n",
       "      <td>41124.0</td>\n",
       "      <td>32.590000</td>\n",
       "      <td>-85.480000</td>\n",
       "      <td>4.0</td>\n",
       "    </tr>\n",
       "    <tr>\n",
       "      <th>4</th>\n",
       "      <td>140</td>\n",
       "      <td>67325.0</td>\n",
       "      <td>339610.0</td>\n",
       "      <td>386565.0</td>\n",
       "      <td>321732.0</td>\n",
       "      <td>33829.0</td>\n",
       "      <td>4727</td>\n",
       "      <td>323539.0</td>\n",
       "      <td>20432.461186</td>\n",
       "      <td>15000</td>\n",
       "      <td>2013.0</td>\n",
       "      <td>128000.0</td>\n",
       "      <td>32.592000</td>\n",
       "      <td>-85.518900</td>\n",
       "      <td>8.0</td>\n",
       "    </tr>\n",
       "    <tr>\n",
       "      <th>...</th>\n",
       "      <td>...</td>\n",
       "      <td>...</td>\n",
       "      <td>...</td>\n",
       "      <td>...</td>\n",
       "      <td>...</td>\n",
       "      <td>...</td>\n",
       "      <td>...</td>\n",
       "      <td>...</td>\n",
       "      <td>...</td>\n",
       "      <td>...</td>\n",
       "      <td>...</td>\n",
       "      <td>...</td>\n",
       "      <td>...</td>\n",
       "      <td>...</td>\n",
       "      <td>...</td>\n",
       "    </tr>\n",
       "    <tr>\n",
       "      <th>406689</th>\n",
       "      <td>585</td>\n",
       "      <td>10447.0</td>\n",
       "      <td>339610.0</td>\n",
       "      <td>386565.0</td>\n",
       "      <td>321732.0</td>\n",
       "      <td>20281.0</td>\n",
       "      <td>585</td>\n",
       "      <td>68952.0</td>\n",
       "      <td>20973.077727</td>\n",
       "      <td>30990</td>\n",
       "      <td>2018.0</td>\n",
       "      <td>15080.0</td>\n",
       "      <td>33.779214</td>\n",
       "      <td>-84.411811</td>\n",
       "      <td>3.0</td>\n",
       "    </tr>\n",
       "    <tr>\n",
       "      <th>406690</th>\n",
       "      <td>585</td>\n",
       "      <td>7820.0</td>\n",
       "      <td>339610.0</td>\n",
       "      <td>386565.0</td>\n",
       "      <td>321732.0</td>\n",
       "      <td>83668.0</td>\n",
       "      <td>585</td>\n",
       "      <td>68952.0</td>\n",
       "      <td>20973.077727</td>\n",
       "      <td>33590</td>\n",
       "      <td>2018.0</td>\n",
       "      <td>30814.0</td>\n",
       "      <td>33.779214</td>\n",
       "      <td>-84.411811</td>\n",
       "      <td>3.0</td>\n",
       "    </tr>\n",
       "    <tr>\n",
       "      <th>406692</th>\n",
       "      <td>585</td>\n",
       "      <td>3204.0</td>\n",
       "      <td>339610.0</td>\n",
       "      <td>386565.0</td>\n",
       "      <td>61705.0</td>\n",
       "      <td>83668.0</td>\n",
       "      <td>585</td>\n",
       "      <td>68952.0</td>\n",
       "      <td>18205.241879</td>\n",
       "      <td>30590</td>\n",
       "      <td>2020.0</td>\n",
       "      <td>12029.0</td>\n",
       "      <td>33.786500</td>\n",
       "      <td>-84.445400</td>\n",
       "      <td>1.0</td>\n",
       "    </tr>\n",
       "    <tr>\n",
       "      <th>406693</th>\n",
       "      <td>585</td>\n",
       "      <td>6705.0</td>\n",
       "      <td>28286.0</td>\n",
       "      <td>386565.0</td>\n",
       "      <td>61705.0</td>\n",
       "      <td>16430.0</td>\n",
       "      <td>585</td>\n",
       "      <td>68952.0</td>\n",
       "      <td>20973.077727</td>\n",
       "      <td>34990</td>\n",
       "      <td>2020.0</td>\n",
       "      <td>4174.0</td>\n",
       "      <td>33.779214</td>\n",
       "      <td>-84.411811</td>\n",
       "      <td>1.0</td>\n",
       "    </tr>\n",
       "    <tr>\n",
       "      <th>406694</th>\n",
       "      <td>585</td>\n",
       "      <td>7820.0</td>\n",
       "      <td>339610.0</td>\n",
       "      <td>386565.0</td>\n",
       "      <td>61705.0</td>\n",
       "      <td>83668.0</td>\n",
       "      <td>585</td>\n",
       "      <td>68952.0</td>\n",
       "      <td>15626.277853</td>\n",
       "      <td>28990</td>\n",
       "      <td>2018.0</td>\n",
       "      <td>30112.0</td>\n",
       "      <td>33.786500</td>\n",
       "      <td>-84.445400</td>\n",
       "      <td>3.0</td>\n",
       "    </tr>\n",
       "  </tbody>\n",
       "</table>\n",
       "<p>231464 rows × 15 columns</p>\n",
       "</div>"
      ],
      "text/plain": [
       "        region  manufacturer      fuel  title_status  transmission     type  \\\n",
       "0          140       16331.0  339610.0      386565.0       61705.0  41694.0   \n",
       "1          140       51845.0  339610.0      386565.0       61705.0  41694.0   \n",
       "2          140       51845.0  339610.0      386565.0       61705.0  41694.0   \n",
       "3          140       33367.0  339610.0      386565.0       61705.0  41694.0   \n",
       "4          140       67325.0  339610.0      386565.0      321732.0  33829.0   \n",
       "...        ...           ...       ...           ...           ...      ...   \n",
       "406689     585       10447.0  339610.0      386565.0      321732.0  20281.0   \n",
       "406690     585        7820.0  339610.0      386565.0      321732.0  83668.0   \n",
       "406692     585        3204.0  339610.0      386565.0       61705.0  83668.0   \n",
       "406693     585        6705.0   28286.0      386565.0       61705.0  16430.0   \n",
       "406694     585        7820.0  339610.0      386565.0       61705.0  83668.0   \n",
       "\n",
       "        state  brand_segmentation   paint_color  price    year  odometer  \\\n",
       "0        4727            323539.0  20973.077727  33590  2014.0   57923.0   \n",
       "1        4727            323539.0  16086.209312  22590  2010.0   71229.0   \n",
       "2        4727            323539.0  18205.241879  39590  2020.0   19160.0   \n",
       "3        4727            323539.0  18205.241879  30990  2017.0   41124.0   \n",
       "4        4727            323539.0  20432.461186  15000  2013.0  128000.0   \n",
       "...       ...                 ...           ...    ...     ...       ...   \n",
       "406689    585             68952.0  20973.077727  30990  2018.0   15080.0   \n",
       "406690    585             68952.0  20973.077727  33590  2018.0   30814.0   \n",
       "406692    585             68952.0  18205.241879  30590  2020.0   12029.0   \n",
       "406693    585             68952.0  20973.077727  34990  2020.0    4174.0   \n",
       "406694    585             68952.0  15626.277853  28990  2018.0   30112.0   \n",
       "\n",
       "              lat       long  car_age  \n",
       "0       32.590000 -85.480000      7.0  \n",
       "1       32.590000 -85.480000     11.0  \n",
       "2       32.590000 -85.480000      1.0  \n",
       "3       32.590000 -85.480000      4.0  \n",
       "4       32.592000 -85.518900      8.0  \n",
       "...           ...        ...      ...  \n",
       "406689  33.779214 -84.411811      3.0  \n",
       "406690  33.779214 -84.411811      3.0  \n",
       "406692  33.786500 -84.445400      1.0  \n",
       "406693  33.779214 -84.411811      1.0  \n",
       "406694  33.786500 -84.445400      3.0  \n",
       "\n",
       "[231464 rows x 15 columns]"
      ]
     },
     "execution_count": 13,
     "metadata": {},
     "output_type": "execute_result"
    }
   ],
   "source": [
    "df_1"
   ]
  },
  {
   "cell_type": "code",
   "execution_count": 14,
   "metadata": {},
   "outputs": [],
   "source": [
    "X = df_1.drop('price', axis = 1)\n",
    "y = df_1[['price']]\n",
    "\n",
    "X_train, X_test, y_train, y_test = train_test_split(X, y, test_size = .2, random_state = 43)\n",
    "\n",
    "model = RandomForestRegressor(n_jobs = -1)\n",
    "\n",
    "model.fit(X_train, y_train)\n",
    "yhat = model.predict(X_test)\n",
    "\n",
    "r2 = r2_score(y_test, yhat)"
   ]
  },
  {
   "cell_type": "code",
   "execution_count": 15,
   "metadata": {},
   "outputs": [
    {
     "data": {
      "text/plain": [
       "0.9035645662824112"
      ]
     },
     "execution_count": 15,
     "metadata": {},
     "output_type": "execute_result"
    }
   ],
   "source": [
    "r2"
   ]
  },
  {
   "attachments": {},
   "cell_type": "markdown",
   "metadata": {},
   "source": [
    "### Clustering"
   ]
  },
  {
   "cell_type": "code",
   "execution_count": 16,
   "metadata": {},
   "outputs": [],
   "source": [
    "# Escalamos datos para KMeans\n",
    "\n",
    "X = df_1.drop(['price'], axis = 1)\n",
    "\n",
    "kmeans_scaler = MinMaxScaler()\n",
    "X = kmeans_scaler.fit_transform(X)"
   ]
  },
  {
   "cell_type": "code",
   "execution_count": 17,
   "metadata": {},
   "outputs": [],
   "source": [
    "# Generamos la mejor k mediante el teorema de Dmitry\n",
    "\n",
    "def get_best_k(X, n_k, max_inertia, model = KMeans()):\n",
    "    inertias = list()\n",
    "    \n",
    "    for k in n_k:\n",
    "        model.n_clusters = k\n",
    "        model.fit(X)\n",
    "        inertias.append(model.inertia_)\n",
    "        \n",
    "    k_i = np.array([[k, i] for k, i in enumerate(inertias, start = 1)])\n",
    "\n",
    "    k_i_max = np.max(k_i, axis=0)\n",
    "    k_i_norm = k_i / k_i_max\n",
    "    \n",
    "    distances = [np.linalg.norm([point, [0,0]]) for point in k_i_norm]\n",
    "    \n",
    "    return pd.concat([pd.DataFrame([x for x in range(1,n_k[-1] + 1)], columns = ['K']), pd.DataFrame(distances, columns = ['Distance'])], axis = 1).sort_values('Distance')\n",
    "\n",
    "best_k = get_best_k(X,range(1,11), 10).reset_index(drop = True)['K'].iloc[0]"
   ]
  },
  {
   "cell_type": "code",
   "execution_count": 18,
   "metadata": {},
   "outputs": [],
   "source": [
    "# Entrenamos KMeans\n",
    "\n",
    "kmeans = KMeans(n_clusters = best_k)\n",
    "kmeans.fit(X)\n",
    "labels = kmeans.labels_\n",
    "\n",
    "\n",
    "# Concatenamos las etiquetas de clusters con el dataframe\n",
    "\n",
    "df_cluster = df_1\n",
    "df_cluster['cluster'] = labels"
   ]
  },
  {
   "cell_type": "code",
   "execution_count": 19,
   "metadata": {},
   "outputs": [],
   "source": [
    "# Separamos en X e y para entrenar el clasificador\n",
    "\n",
    "X = df_cluster.drop(['price', 'cluster'], axis = 1)\n",
    "y = df_cluster[['cluster']]\n",
    "\n",
    "# Separamos en train y test\n",
    "\n",
    "X_train, X_test, y_train, y_test = train_test_split(X, y, test_size = .2, random_state = 43)"
   ]
  },
  {
   "cell_type": "code",
   "execution_count": 20,
   "metadata": {},
   "outputs": [
    {
     "name": "stdout",
     "output_type": "stream",
     "text": [
      "[[ 7448     0     0     0]\n",
      " [    0 17800     0     7]\n",
      " [    0     0  8429     0]\n",
      " [    0     1     0 12608]]\n",
      "0.999827187695764\n"
     ]
    }
   ],
   "source": [
    "# Entrenamos el clasificador\n",
    "\n",
    "knn = KNeighborsClassifier(n_neighbors = 5)\n",
    "knn.fit(X_train, y_train)\n",
    "yhat = knn.predict(X_test)\n",
    "\n",
    "conf_matrix = confusion_matrix(y_test, yhat)\n",
    "acc = accuracy_score(y_test, yhat)\n",
    "\n",
    "print(conf_matrix)\n",
    "print(acc)"
   ]
  },
  {
   "cell_type": "code",
   "execution_count": 23,
   "metadata": {},
   "outputs": [],
   "source": [
    "def trainClusters(df_cluster, scaler, model, best_features = None, params = {}):\n",
    "    \n",
    "    scores = []\n",
    "    models = []\n",
    "    for i in df_cluster['cluster'].unique():\n",
    "        data = df_cluster[df_cluster['cluster'] == i].drop('cluster', axis = 1)\n",
    "        \n",
    "        X = data.drop('price', axis = 1)\n",
    "        \n",
    "        X = scaler.inverse_transform(X)\n",
    "        \n",
    "        if best_features != None:\n",
    "            X = pd.DataFrame(X, columns = data.drop('price', axis = 1).columns)[[x[0] for x in best_features[i]]]\n",
    "        \n",
    "        y = data['price']\n",
    "        \n",
    "        params = params\n",
    "        \n",
    "        grid_solver = GridSearchCV(estimator = model,\n",
    "                                   param_grid = params,\n",
    "                                   scoring = 'r2',\n",
    "                                   cv = 5,\n",
    "                                   refit = 'r2',\n",
    "                                   n_jobs = -1,\n",
    "                                  )\n",
    "        model_result = grid_solver.fit(X, y)\n",
    "        \n",
    "        r2 = grid_solver.best_score_\n",
    "        \n",
    "        scores.append([data.shape[0], r2])\n",
    "        models.append(model_result)\n",
    "    return scores, models"
   ]
  },
  {
   "cell_type": "code",
   "execution_count": 24,
   "metadata": {},
   "outputs": [
    {
     "name": "stdout",
     "output_type": "stream",
     "text": [
      "CPU times: user 1min 23s, sys: 1.31 s, total: 1min 25s\n",
      "Wall time: 2min 38s\n"
     ]
    }
   ],
   "source": [
    "%%time\n",
    "clusters = trainClusters(df_cluster, kmeans_scaler, RandomForestRegressor())"
   ]
  },
  {
   "cell_type": "code",
   "execution_count": 25,
   "metadata": {},
   "outputs": [
    {
     "data": {
      "text/plain": [
       "0.7767213595186595"
      ]
     },
     "execution_count": 25,
     "metadata": {},
     "output_type": "execute_result"
    }
   ],
   "source": [
    "# r2 con todas las columnas\n",
    "sum([x[1]*x[0]/df_cluster.shape[0] for x in clusters[0]])*acc"
   ]
  },
  {
   "attachments": {},
   "cell_type": "markdown",
   "metadata": {},
   "source": [
    "### brand_segmentation clustering"
   ]
  },
  {
   "cell_type": "code",
   "execution_count": 26,
   "metadata": {},
   "outputs": [],
   "source": [
    "df_brand = df_1\n",
    "\n",
    "df_brand['cluster'] = df_brand['brand_segmentation']\n",
    "df_brand.drop('brand_segmentation', axis = 1, inplace = True)\n",
    "\n",
    "X = df_brand.drop(['price', 'cluster'], axis = 1)\n",
    "y = df_brand[['cluster']]\n",
    "\n",
    "X_train, X_test, y_train, y_test = train_test_split(X, y, test_size = .2, random_state = 43)"
   ]
  },
  {
   "cell_type": "code",
   "execution_count": 27,
   "metadata": {},
   "outputs": [
    {
     "name": "stdout",
     "output_type": "stream",
     "text": [
      "[[    2     1     4]\n",
      " [    0  8656   136]\n",
      " [    0    37 37457]]\n",
      "0.9961549262307476\n"
     ]
    }
   ],
   "source": [
    "from sklearn.ensemble import RandomForestClassifier\n",
    "# Entrenamos el clasificador\n",
    "\n",
    "rfc = RandomForestClassifier(n_jobs = -1)\n",
    "rfc.fit(X_train, y_train)\n",
    "yhat = rfc.predict(X_test)\n",
    "\n",
    "conf_matrix = confusion_matrix(y_test, yhat)\n",
    "acc = accuracy_score(y_test, yhat)\n",
    "\n",
    "print(conf_matrix)\n",
    "print(acc)"
   ]
  },
  {
   "cell_type": "code",
   "execution_count": 28,
   "metadata": {},
   "outputs": [],
   "source": [
    "def trainClusters(df_cluster, scaler, model, best_features = None, params = {}):\n",
    "    \n",
    "    scores = []\n",
    "    models = []\n",
    "    for i in df_cluster['cluster'].unique():\n",
    "        data = df_cluster[df_cluster['cluster'] == i].drop('cluster', axis = 1)\n",
    "        \n",
    "        X = data.drop('price', axis = 1)\n",
    "        \n",
    "        if best_features != None:\n",
    "            X = pd.DataFrame(X, columns = data.drop('price', axis = 1).columns)[[x[0] for x in best_features[i]]]\n",
    "        \n",
    "        y = data['price']\n",
    "        \n",
    "        params = params\n",
    "        \n",
    "        grid_solver = GridSearchCV(estimator = model,\n",
    "                                   param_grid = params,\n",
    "                                   scoring = 'r2',\n",
    "                                   cv = 5,\n",
    "                                   refit = 'r2',\n",
    "                                   n_jobs = -1,\n",
    "                                  )\n",
    "        model_result = grid_solver.fit(X, y)\n",
    "        \n",
    "        r2 = grid_solver.best_score_\n",
    "        \n",
    "        scores.append([data.shape[0], r2])\n",
    "        models.append(model_result)\n",
    "    return scores, models"
   ]
  },
  {
   "cell_type": "code",
   "execution_count": 29,
   "metadata": {},
   "outputs": [
    {
     "name": "stdout",
     "output_type": "stream",
     "text": [
      "CPU times: user 1min 37s, sys: 195 ms, total: 1min 37s\n",
      "Wall time: 3min 3s\n"
     ]
    }
   ],
   "source": [
    "%%time\n",
    "clusters = trainClusters(df_brand, kmeans_scaler, RandomForestRegressor())"
   ]
  },
  {
   "cell_type": "code",
   "execution_count": 30,
   "metadata": {},
   "outputs": [
    {
     "data": {
      "text/plain": [
       "0.824919709815228"
      ]
     },
     "execution_count": 30,
     "metadata": {},
     "output_type": "execute_result"
    }
   ],
   "source": [
    "sum([x[1]*x[0]/df_cluster.shape[0] for x in clusters[0]])*acc"
   ]
  },
  {
   "attachments": {},
   "cell_type": "markdown",
   "metadata": {},
   "source": [
    "### Approach selection\n",
    "Nos quedamos con el modelo original puesto que es más eficiente y hacer clustering no mejora la métrica final"
   ]
  },
  {
   "cell_type": "code",
   "execution_count": 31,
   "metadata": {},
   "outputs": [],
   "source": [
    "X = df_1.drop(['price'], axis = 1)\n",
    "y = df_1[['price']]"
   ]
  },
  {
   "cell_type": "code",
   "execution_count": 33,
   "metadata": {},
   "outputs": [
    {
     "name": "stdout",
     "output_type": "stream",
     "text": [
      "Fitting 5 folds for each of 1 candidates, totalling 5 fits\n",
      "[CV 2/5] END ..................................., score=0.806 total time= 1.5min\n",
      "[CV 4/5] END ..................................., score=0.864 total time= 1.5min\n",
      "[CV 3/5] END ..................................., score=0.846 total time= 1.5min\n",
      "[CV 1/5] END ..................................., score=0.784 total time= 1.5min\n",
      "[CV 5/5] END ..................................., score=0.859 total time= 1.5min\n",
      "CPU times: user 1min 39s, sys: 320 ms, total: 1min 40s\n",
      "Wall time: 3min 12s\n"
     ]
    }
   ],
   "source": [
    "%%time\n",
    "\n",
    "params = {}\n",
    "\n",
    "grid_solver = GridSearchCV(estimator = RandomForestRegressor(),\n",
    "                           param_grid = params,\n",
    "                           scoring = 'r2',\n",
    "                           cv = 5,\n",
    "                           refit = 'r2',\n",
    "                           n_jobs = -1,\n",
    "                           verbose = 3\n",
    "                          )\n",
    "model_result = grid_solver.fit(X, y['price'])\n",
    "\n",
    "r2 = grid_solver.best_score_"
   ]
  },
  {
   "cell_type": "code",
   "execution_count": 34,
   "metadata": {},
   "outputs": [
    {
     "data": {
      "text/plain": [
       "0.8319262196369202"
      ]
     },
     "execution_count": 34,
     "metadata": {},
     "output_type": "execute_result"
    }
   ],
   "source": [
    "r2"
   ]
  },
  {
   "attachments": {},
   "cell_type": "markdown",
   "metadata": {},
   "source": [
    "### Reducción de dimensionalidad"
   ]
  },
  {
   "cell_type": "code",
   "execution_count": 35,
   "metadata": {},
   "outputs": [
    {
     "data": {
      "text/html": [
       "<style>#sk-container-id-1 {color: black;}#sk-container-id-1 pre{padding: 0;}#sk-container-id-1 div.sk-toggleable {background-color: white;}#sk-container-id-1 label.sk-toggleable__label {cursor: pointer;display: block;width: 100%;margin-bottom: 0;padding: 0.3em;box-sizing: border-box;text-align: center;}#sk-container-id-1 label.sk-toggleable__label-arrow:before {content: \"▸\";float: left;margin-right: 0.25em;color: #696969;}#sk-container-id-1 label.sk-toggleable__label-arrow:hover:before {color: black;}#sk-container-id-1 div.sk-estimator:hover label.sk-toggleable__label-arrow:before {color: black;}#sk-container-id-1 div.sk-toggleable__content {max-height: 0;max-width: 0;overflow: hidden;text-align: left;background-color: #f0f8ff;}#sk-container-id-1 div.sk-toggleable__content pre {margin: 0.2em;color: black;border-radius: 0.25em;background-color: #f0f8ff;}#sk-container-id-1 input.sk-toggleable__control:checked~div.sk-toggleable__content {max-height: 200px;max-width: 100%;overflow: auto;}#sk-container-id-1 input.sk-toggleable__control:checked~label.sk-toggleable__label-arrow:before {content: \"▾\";}#sk-container-id-1 div.sk-estimator input.sk-toggleable__control:checked~label.sk-toggleable__label {background-color: #d4ebff;}#sk-container-id-1 div.sk-label input.sk-toggleable__control:checked~label.sk-toggleable__label {background-color: #d4ebff;}#sk-container-id-1 input.sk-hidden--visually {border: 0;clip: rect(1px 1px 1px 1px);clip: rect(1px, 1px, 1px, 1px);height: 1px;margin: -1px;overflow: hidden;padding: 0;position: absolute;width: 1px;}#sk-container-id-1 div.sk-estimator {font-family: monospace;background-color: #f0f8ff;border: 1px dotted black;border-radius: 0.25em;box-sizing: border-box;margin-bottom: 0.5em;}#sk-container-id-1 div.sk-estimator:hover {background-color: #d4ebff;}#sk-container-id-1 div.sk-parallel-item::after {content: \"\";width: 100%;border-bottom: 1px solid gray;flex-grow: 1;}#sk-container-id-1 div.sk-label:hover label.sk-toggleable__label {background-color: #d4ebff;}#sk-container-id-1 div.sk-serial::before {content: \"\";position: absolute;border-left: 1px solid gray;box-sizing: border-box;top: 0;bottom: 0;left: 50%;z-index: 0;}#sk-container-id-1 div.sk-serial {display: flex;flex-direction: column;align-items: center;background-color: white;padding-right: 0.2em;padding-left: 0.2em;position: relative;}#sk-container-id-1 div.sk-item {position: relative;z-index: 1;}#sk-container-id-1 div.sk-parallel {display: flex;align-items: stretch;justify-content: center;background-color: white;position: relative;}#sk-container-id-1 div.sk-item::before, #sk-container-id-1 div.sk-parallel-item::before {content: \"\";position: absolute;border-left: 1px solid gray;box-sizing: border-box;top: 0;bottom: 0;left: 50%;z-index: -1;}#sk-container-id-1 div.sk-parallel-item {display: flex;flex-direction: column;z-index: 1;position: relative;background-color: white;}#sk-container-id-1 div.sk-parallel-item:first-child::after {align-self: flex-end;width: 50%;}#sk-container-id-1 div.sk-parallel-item:last-child::after {align-self: flex-start;width: 50%;}#sk-container-id-1 div.sk-parallel-item:only-child::after {width: 0;}#sk-container-id-1 div.sk-dashed-wrapped {border: 1px dashed gray;margin: 0 0.4em 0.5em 0.4em;box-sizing: border-box;padding-bottom: 0.4em;background-color: white;}#sk-container-id-1 div.sk-label label {font-family: monospace;font-weight: bold;display: inline-block;line-height: 1.2em;}#sk-container-id-1 div.sk-label-container {text-align: center;}#sk-container-id-1 div.sk-container {/* jupyter's `normalize.less` sets `[hidden] { display: none; }` but bootstrap.min.css set `[hidden] { display: none !important; }` so we also need the `!important` here to be able to override the default hidden behavior on the sphinx rendered scikit-learn.org. See: https://github.com/scikit-learn/scikit-learn/issues/21755 */display: inline-block !important;position: relative;}#sk-container-id-1 div.sk-text-repr-fallback {display: none;}</style><div id=\"sk-container-id-1\" class=\"sk-top-container\"><div class=\"sk-text-repr-fallback\"><pre>RandomForestRegressor()</pre><b>In a Jupyter environment, please rerun this cell to show the HTML representation or trust the notebook. <br />On GitHub, the HTML representation is unable to render, please try loading this page with nbviewer.org.</b></div><div class=\"sk-container\" hidden><div class=\"sk-item\"><div class=\"sk-estimator sk-toggleable\"><input class=\"sk-toggleable__control sk-hidden--visually\" id=\"sk-estimator-id-1\" type=\"checkbox\" checked><label for=\"sk-estimator-id-1\" class=\"sk-toggleable__label sk-toggleable__label-arrow\">RandomForestRegressor</label><div class=\"sk-toggleable__content\"><pre>RandomForestRegressor()</pre></div></div></div></div></div>"
      ],
      "text/plain": [
       "RandomForestRegressor()"
      ]
     },
     "execution_count": 35,
     "metadata": {},
     "output_type": "execute_result"
    }
   ],
   "source": [
    "model = RandomForestRegressor(**model_result.best_params_)\n",
    "model.fit(X, y)"
   ]
  },
  {
   "cell_type": "code",
   "execution_count": 36,
   "metadata": {},
   "outputs": [],
   "source": [
    "feature_importances = np.array([[X.columns[x], y ]for x, y in enumerate(model.feature_importances_)])"
   ]
  },
  {
   "cell_type": "code",
   "execution_count": 37,
   "metadata": {},
   "outputs": [],
   "source": [
    "def getMostImportantColumns(feature_importances, keep):\n",
    "    # Sort the feature importances in descending order\n",
    "    sorted_importances = sorted(feature_importances, key=lambda x: float(x[1]), reverse=True)\n",
    "\n",
    "    # Initialize the variables for keeping track of the sum and the columns to keep\n",
    "    sum_importances = 0\n",
    "    columns_to_keep = []\n",
    "\n",
    "    # Iterate through the sorted importances and add them to the sum until the keep threshold is reached\n",
    "    for feature, importance in sorted_importances:\n",
    "        importance = float(importance)\n",
    "        if sum_importances + importance <= keep:\n",
    "            sum_importances += importance\n",
    "            columns_to_keep.append(feature)\n",
    "        else:\n",
    "            break\n",
    "\n",
    "    # Return the columns in the same order as the original feature_importances\n",
    "    return [col for col in [f[0] for f in feature_importances] if col in columns_to_keep]"
   ]
  },
  {
   "cell_type": "code",
   "execution_count": 38,
   "metadata": {},
   "outputs": [],
   "source": [
    "X = df_1[getMostImportantColumns(feature_importances, 0.9)]\n",
    "y = df_1[['price']]"
   ]
  },
  {
   "cell_type": "code",
   "execution_count": 39,
   "metadata": {},
   "outputs": [
    {
     "data": {
      "text/plain": [
       "['manufacturer', 'fuel', 'type', 'year', 'odometer', 'long', 'car_age']"
      ]
     },
     "execution_count": 39,
     "metadata": {},
     "output_type": "execute_result"
    }
   ],
   "source": [
    "getMostImportantColumns(feature_importances, 0.9)"
   ]
  },
  {
   "cell_type": "code",
   "execution_count": 40,
   "metadata": {},
   "outputs": [
    {
     "name": "stdout",
     "output_type": "stream",
     "text": [
      "Fitting 5 folds for each of 1 candidates, totalling 5 fits\n",
      "[CV 2/5] END ..................................., score=0.814 total time=  50.1s\n",
      "[CV 3/5] END ..................................., score=0.840 total time=  50.1s\n",
      "[CV 1/5] END ..................................., score=0.753 total time=  51.1s\n",
      "[CV 4/5] END ..................................., score=0.857 total time=  52.0s\n",
      "[CV 5/5] END ..................................., score=0.847 total time=  54.4s\n",
      "CPU times: user 52.8 s, sys: 1.18 s, total: 54 s\n",
      "Wall time: 1min 49s\n"
     ]
    }
   ],
   "source": [
    "%%time\n",
    "\n",
    "params = {}\n",
    "\n",
    "grid_solver = GridSearchCV(estimator = RandomForestRegressor(),\n",
    "                           param_grid = params,\n",
    "                           scoring = 'r2',\n",
    "                           cv = 5,\n",
    "                           refit = 'r2',\n",
    "                           n_jobs = -1,\n",
    "                           verbose = 3\n",
    "                          )\n",
    "model_result = grid_solver.fit(X, y['price'])\n",
    "\n",
    "r2 = grid_solver.best_score_"
   ]
  },
  {
   "cell_type": "code",
   "execution_count": 41,
   "metadata": {},
   "outputs": [
    {
     "data": {
      "text/plain": [
       "0.8223594801908496"
      ]
     },
     "execution_count": 41,
     "metadata": {},
     "output_type": "execute_result"
    }
   ],
   "source": [
    "r2"
   ]
  },
  {
   "attachments": {},
   "cell_type": "markdown",
   "metadata": {},
   "source": [
    "### Guardado de modelo"
   ]
  },
  {
   "cell_type": "code",
   "execution_count": 42,
   "metadata": {},
   "outputs": [],
   "source": [
    "model = RandomForestClassifier(**model_result.best_params_)"
   ]
  },
  {
   "cell_type": "code",
   "execution_count": 43,
   "metadata": {},
   "outputs": [],
   "source": [
    "with open('model.pkl', 'bw') as file:\n",
    "    pkl.dump(model, file)\n",
    "with open('encodings.pkl', 'bw') as file:\n",
    "    pkl.dump(encodings, file)"
   ]
  },
  {
   "cell_type": "code",
   "execution_count": null,
   "metadata": {},
   "outputs": [],
   "source": [
    "############################################################################################################################################################################"
   ]
  }
 ],
 "metadata": {
  "kernelspec": {
   "display_name": "venv",
   "language": "python",
   "name": "python3"
  },
  "language_info": {
   "codemirror_mode": {
    "name": "ipython",
    "version": 3
   },
   "file_extension": ".py",
   "mimetype": "text/x-python",
   "name": "python",
   "nbconvert_exporter": "python",
   "pygments_lexer": "ipython3",
   "version": "3.9.12"
  },
  "orig_nbformat": 4
 },
 "nbformat": 4,
 "nbformat_minor": 2
}
